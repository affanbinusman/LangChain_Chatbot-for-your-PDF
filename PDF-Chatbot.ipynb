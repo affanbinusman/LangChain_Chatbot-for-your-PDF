{
 "cells": [
  {
   "cell_type": "code",
   "execution_count": 13,
   "metadata": {},
   "outputs": [],
   "source": [
    "import os\n",
    "import time\n",
    "\n",
    "# For pdf parsing, chunks and vectorization\n",
    "import pdfplumber\n",
    "import PyPDF4\n",
    "import re              \n",
    "\n",
    "from langchain.docstore.document import Document\n",
    "from langchain.text_splitter import RecursiveCharacterTextSplitter\n",
    "from langchain.vectorstores import Chroma\n",
    "from langchain.embeddings import HuggingFaceEmbeddings\n",
    "\n",
    "# For open source models\n",
    "from langchain.llms import HuggingFaceHub, Cohere\n",
    "\n",
    "# For converastional LLM \n",
    "from langchain.chains import ConversationalRetrievalChain\n",
    "from langchain.schema import HumanMessage, AIMessage\n",
    "from langchain import PromptTemplate\n",
    "\n",
    "# API Keys\n",
    "from dotenv import load_dotenv"
   ]
  },
  {
   "cell_type": "code",
   "execution_count": 2,
   "metadata": {},
   "outputs": [],
   "source": [
    "# Extracting meta data from the pdf\n",
    "\n",
    "def extract_metadata_from_pdf(file_path):\n",
    "    with open(file_path, \"rb\") as pdf_file:\n",
    "        reader = PyPDF4.PdfFileReader(pdf_file) \n",
    "        metadata = reader.getDocumentInfo()\n",
    "        return {\n",
    "            \"title\": metadata.get(\"/Title\", \"\").strip(),\n",
    "            \"author\": metadata.get(\"/Author\", \"\").strip(),\n",
    "            \"creation_date\": metadata.get(\"/CreationDate\", \"\").strip(),\n",
    "        }"
   ]
  },
  {
   "cell_type": "code",
   "execution_count": 3,
   "metadata": {},
   "outputs": [],
   "source": [
    "# Extracting individual pages from pdf\n",
    "\n",
    "def extract_pages_from_pdf(file_path):\n",
    "    if not os.path.isfile(file_path):\n",
    "        raise FileNotFoundError(f\"File not found: {file_path}\")\n",
    "\n",
    "    with pdfplumber.open(file_path) as pdf:\n",
    "        pages = []\n",
    "        for page_num, page in enumerate(pdf.pages):\n",
    "            text = page.extract_text()\n",
    "            if text.strip():  # Check if extracted text is not empty\n",
    "                pages.append((page_num + 1, text))\n",
    "    return pages"
   ]
  },
  {
   "cell_type": "code",
   "execution_count": 4,
   "metadata": {},
   "outputs": [],
   "source": [
    "# Function calls for extracting meta data and individual pages\n",
    "\n",
    "def parse_pdf(file_path):\n",
    "    if not os.path.isfile(file_path):\n",
    "        raise FileNotFoundError(f\"File not found: {file_path}\")\n",
    "\n",
    "    metadata = extract_metadata_from_pdf(file_path)\n",
    "    pages = extract_pages_from_pdf(file_path)\n",
    "\n",
    "    return pages, metadata"
   ]
  },
  {
   "cell_type": "code",
   "execution_count": 5,
   "metadata": {},
   "outputs": [],
   "source": [
    "# Text cleaning tasks\n",
    "\n",
    "# Merging hyphen words\n",
    "def merge_hyphenated_words(text):\n",
    "    return re.sub(r\"(\\w)-\\n(\\w)\", r\"\\1\\2\", text)\n",
    "\n",
    "# Adding new lines to the same string\n",
    "def fix_newlines(text):\n",
    "    return re.sub(r\"(?<!\\n)\\n(?!\\n)\", \" \", text)\n",
    "\n",
    "# Removing mulitple lines and adding them to the same string \n",
    "def remove_multiple_newlines(text):\n",
    "    return re.sub(r\"\\n{2,}\", \"\\n\", text)"
   ]
  },
  {
   "cell_type": "code",
   "execution_count": 6,
   "metadata": {},
   "outputs": [],
   "source": [
    "# cleaning pages and returning cleaned pages\n",
    "\n",
    "def clean_text(pages, cleaning_functions):\n",
    "    cleaned_pages = []\n",
    "    for page_num, text in pages:\n",
    "        for cleaning_function in cleaning_functions:\n",
    "            text = cleaning_function(text)\n",
    "        cleaned_pages.append((page_num, text))\n",
    "    return cleaned_pages"
   ]
  },
  {
   "cell_type": "code",
   "execution_count": 7,
   "metadata": {},
   "outputs": [],
   "source": [
    "# Making document into smaller cunks\n",
    "\n",
    "def text_to_docs(text, metadata):\n",
    "    doc_chunks = []\n",
    "\n",
    "    for page_num, page in text:\n",
    "        text_splitter = RecursiveCharacterTextSplitter(\n",
    "            chunk_size=1000,\n",
    "            separators=[\"\\n\\n\", \"\\n\", \".\", \"!\", \"?\", \",\", \" \", \"\"],\n",
    "            chunk_overlap=200,\n",
    "        )\n",
    "        chunks = text_splitter.split_text(page)\n",
    "        for i, chunk in enumerate(chunks):\n",
    "            doc = Document(\n",
    "                page_content=chunk,\n",
    "                metadata={\n",
    "                    \"page_number\": page_num,\n",
    "                    \"chunk\": i,\n",
    "                    \"source\": f\"p{page_num}-{i}\",\n",
    "                    **metadata,\n",
    "                },\n",
    "            )\n",
    "            doc_chunks.append(doc)\n",
    "\n",
    "    return doc_chunks"
   ]
  },
  {
   "cell_type": "code",
   "execution_count": 8,
   "metadata": {},
   "outputs": [
    {
     "data": {
      "text/plain": [
       "True"
      ]
     },
     "execution_count": 8,
     "metadata": {},
     "output_type": "execute_result"
    }
   ],
   "source": [
    "# Loading API keys\n",
    "load_dotenv()"
   ]
  },
  {
   "cell_type": "code",
   "execution_count": 9,
   "metadata": {},
   "outputs": [],
   "source": [
    "# Parse PDF\n",
    "file_path = \"/Users/affanbinusman/Dropbox (ASU)/Mac (2)/Desktop/untitled folder 2/LangchainLLM/a2/data/example1.pdf\"\n",
    "raw_pages, metadata = parse_pdf(file_path)\n",
    "\n",
    "# Create text chunks\n",
    "cleaning_functions = [\n",
    "    merge_hyphenated_words,\n",
    "    fix_newlines,\n",
    "    remove_multiple_newlines,\n",
    "]\n",
    "cleaned_text_pdf = clean_text(raw_pages, cleaning_functions)\n",
    "document_chunks = text_to_docs(cleaned_text_pdf, metadata)"
   ]
  },
  {
   "cell_type": "code",
   "execution_count": 10,
   "metadata": {},
   "outputs": [
    {
     "name": "stderr",
     "output_type": "stream",
     "text": [
      "WARNING:chromadb:Using embedded DuckDB with persistence: data will be stored in: a2/data/chroma\n"
     ]
    }
   ],
   "source": [
    "# Using embeddings from HuggingFace and saving this embeddings file\n",
    "embeddings = HuggingFaceEmbeddings()\n",
    "\n",
    "vector_store = Chroma.from_documents(\n",
    "    document_chunks,\n",
    "    embeddings,\n",
    "    collection_name=\"resume\",\n",
    "    persist_directory=\"a2/data/chroma\",\n",
    ")\n",
    "\n",
    "# Save DB locally\n",
    "vector_store.persist()"
   ]
  },
  {
   "attachments": {},
   "cell_type": "markdown",
   "metadata": {},
   "source": [
    "Testing LLM"
   ]
  },
  {
   "attachments": {},
   "cell_type": "markdown",
   "metadata": {},
   "source": [
    "Load model HuggingFace"
   ]
  },
  {
   "cell_type": "code",
   "execution_count": 30,
   "metadata": {},
   "outputs": [],
   "source": [
    "# Function for loading parameters of the models from hugging face.\n",
    "# Two partially working models \n",
    "\n",
    "def make_chain():\n",
    "    # Loading model parms\n",
    "    model = HuggingFaceHub(\n",
    "        repo_id=\"google/flan-t5-xxl\",\n",
    "        # repo_id=\"gpt2\",\n",
    "        verbose=False, \n",
    "        # model_kwargs={\"temperature\":1, \"max_length\":100}\n",
    "    )\n",
    "    \n",
    "    # Defining LLM template\n",
    "    template = \"\"\"Answer the following question using information from the document titled \"MS-RAS Handbook Spring 2023 and 23-24 AY.docx\".\n",
    "    Question: {question}\n",
    "    Answer: Let's think step by step and provide accurate answer(s).\"\"\"\n",
    "    prompt = PromptTemplate(template=template, input_variables=[\"question\"])\n",
    "\n",
    "    # Utilizing the stored vector representation\n",
    "    vector_store = Chroma(\n",
    "        collection_name=\"resume\",\n",
    "        embedding_function=embeddings,\n",
    "        persist_directory=\"a2/data/chroma\",\n",
    "    )\n",
    "\n",
    "    # call to model with all parameters defined above\n",
    "    return ConversationalRetrievalChain.from_llm(\n",
    "        llm=model,\n",
    "        condense_question_prompt=prompt,\n",
    "        retriever=vector_store.as_retriever(),\n",
    "        return_source_documents=True,\n",
    "        verbose=False\n",
    "    )"
   ]
  },
  {
   "attachments": {},
   "cell_type": "markdown",
   "metadata": {},
   "source": [
    "Load model Cohere"
   ]
  },
  {
   "cell_type": "code",
   "execution_count": 34,
   "metadata": {},
   "outputs": [],
   "source": [
    "def make_chain():\n",
    "    # Loading model parms\n",
    "    model = Cohere(\n",
    "        verbose=True, \n",
    "        temperature= 0, \n",
    "        max_tokens= 200\n",
    "    )\n",
    "\n",
    "    # Defining LLM template\n",
    "    template = \"\"\"Answer the following question using information from the document titled \"MS-RAS Handbook Spring 2023 and 23-24 AY.docx\".\n",
    "    Question: {question}\n",
    "    Answer: Let's think step by step and provide accurate answer(s).\"\"\"\n",
    "    prompt = PromptTemplate(template=template, input_variables=[\"question\"])\n",
    "    \n",
    "    # Utilizing the stored vector representation\n",
    "    vector_store = Chroma(\n",
    "        collection_name=\"resume\",\n",
    "        embedding_function=embeddings,\n",
    "        persist_directory=\"a2/data/chroma\",\n",
    "    )\n",
    "\n",
    "    # call to model with all parameters defined above\n",
    "    return ConversationalRetrievalChain.from_llm(\n",
    "        llm=model,\n",
    "        condense_question_prompt=prompt,\n",
    "        retriever=vector_store.as_retriever(),\n",
    "        return_source_documents=True,\n",
    "        verbose=False,\n",
    "    )"
   ]
  },
  {
   "attachments": {},
   "cell_type": "markdown",
   "metadata": {},
   "source": [
    "Run the section below (question templates available below this block)"
   ]
  },
  {
   "cell_type": "code",
   "execution_count": 36,
   "metadata": {},
   "outputs": [
    {
     "name": "stderr",
     "output_type": "stream",
     "text": [
      "WARNING:chromadb:Using embedded DuckDB with persistence: data will be stored in: a2/data/chroma\n"
     ]
    },
    {
     "name": "stdout",
     "output_type": "stream",
     "text": [
      "Similarity Search:\n",
      "[Document(page_content='● Professional resumé or curriculum vitae ● GRE scores o The GRE is waived for all students with a bachelor’s degree from an ABET Accredited US Institution. If you meet those criteria, please contact the advising office for the concentration that you have applied to (contact information found here) after you have applied to the program in order to have the GRE waived o The GRE is required for any applicant who has not earned a bachelor’s degree from an ABET Accredited US Institution. GRE scores must be sent in order for your application to be reviewed. o The program does not require specific subject GRE scores. The ASU institution code is 4007, and there is no department code (use 0000 if required). ● Proof of English proficiency o The University requires all international applicants from a country whose native language is not English to provide the Test of English as a Foreign Language (TOEFL), the International English Language Testing System (IELTS), or the Pearson scores', metadata={'page_number': 6, 'chunk': 0, 'source': 'p6-0', 'title': 'MS-RAS Handbook Spring 2023 and 23-24 AY.docx', 'author': '', 'creation_date': ''}), Document(page_content='● Professional resumé or curriculum vitae ● GRE scores o The GRE is waived for all students with a bachelor’s degree from an ABET Accredited US Institution. If you meet those criteria, please contact the advising office for the concentration that you have applied to (contact information found here) after you have applied to the program in order to have the GRE waived o The GRE is required for any applicant who has not earned a bachelor’s degree from an ABET Accredited US Institution. GRE scores must be sent in order for your application to be reviewed. o The program does not require specific subject GRE scores. The ASU institution code is 4007, and there is no department code (use 0000 if required). ● Proof of English proficiency o The University requires all international applicants from a country whose native language is not English to provide the Test of English as a Foreign Language (TOEFL), the International English Language Testing System (IELTS), or the Pearson scores', metadata={'page_number': 6, 'chunk': 0, 'source': 'p6-0', 'title': 'MS-RAS Handbook Spring 2023 and 23-24 AY.docx', 'author': '', 'creation_date': ''}), Document(page_content='● Professional resumé or curriculum vitae ● GRE scores o The GRE is waived for all students with a bachelor’s degree from an ABET Accredited US Institution. If you meet those criteria, please contact the advising office for the concentration that you have applied to (contact information found here) after you have applied to the program in order to have the GRE waived o The GRE is required for any applicant who has not earned a bachelor’s degree from an ABET Accredited US Institution. GRE scores must be sent in order for your application to be reviewed. o The program does not require specific subject GRE scores. The ASU institution code is 4007, and there is no department code (use 0000 if required). ● Proof of English proficiency o The University requires all international applicants from a country whose native language is not English to provide the Test of English as a Foreign Language (TOEFL), the International English Language Testing System (IELTS), or the Pearson scores', metadata={'page_number': 6, 'chunk': 0, 'source': 'p6-0', 'title': 'MS-RAS Handbook Spring 2023 and 23-24 AY.docx', 'author': '', 'creation_date': ''}), Document(page_content='Registration for every fall semester and spring semester is required. Summer registration is required for students taking examinations, completing culminating experiences, defending theses or dissertations or graduating from the degree program. To maintain continuous enrollment, the credit hour(s) must: ● Appear on the student’s Interactive Plan of Study, OR ● Be research (592), thesis (599), or continuing registration (595), OR ● Be a graduate-level course. Grades of “W” and/or “X” are not considered valid registration for continuous enrollment purposes. “W” grades are received when students officially withdraw from a course after the drop/add period. “X” grades are received for audit courses. Additionally, students completing work for a course in which they received a grade of “I” must maintain continuous enrollment as defined previously', metadata={'page_number': 21, 'chunk': 2, 'source': 'p21-2', 'title': 'MS-RAS Handbook Spring 2023 and 23-24 AY.docx', 'author': '', 'creation_date': ''})]\n",
      "Similarity Search Score:\n",
      "1.1568167209625244\n",
      "\n",
      "None\n",
      "Answer:  I don't know.\n",
      "\n",
      "\n",
      "Similarity Search:\n",
      "[Document(page_content='edu Tempe, AZ 85287-5706 Artificial Intelligence This concentration is offered by the School of Computing and Augmented Intelligence at the Tempe campus. It is appropriate for students who wish to emphasize applications in artificial intelligence/computer science. Students will get a solid theoretical and practical background in a variety of topics that facilitate the study of \"intelligent agents\" that is any robotic system that perceives its environment and takes actions that maximize its chance of successfully achieving its goals. Thus, students in this concentration will be exposed to the frontiers of the general topics in AI, including statistical machine learning, computer vision, natural language processing, knowledge retrieval and reasoning, and formal methods of planning. When compared to the other concentrations, the AI concentration focuses more on the algorithmic aspects of robotics', metadata={'page_number': 4, 'chunk': 2, 'source': 'p4-2', 'title': 'MS-RAS Handbook Spring 2023 and 23-24 AY.docx', 'author': '', 'creation_date': ''}), Document(page_content='edu Tempe, AZ 85287-5706 Artificial Intelligence This concentration is offered by the School of Computing and Augmented Intelligence at the Tempe campus. It is appropriate for students who wish to emphasize applications in artificial intelligence/computer science. Students will get a solid theoretical and practical background in a variety of topics that facilitate the study of \"intelligent agents\" that is any robotic system that perceives its environment and takes actions that maximize its chance of successfully achieving its goals. Thus, students in this concentration will be exposed to the frontiers of the general topics in AI, including statistical machine learning, computer vision, natural language processing, knowledge retrieval and reasoning, and formal methods of planning. When compared to the other concentrations, the AI concentration focuses more on the algorithmic aspects of robotics', metadata={'page_number': 4, 'chunk': 2, 'source': 'p4-2', 'title': 'MS-RAS Handbook Spring 2023 and 23-24 AY.docx', 'author': '', 'creation_date': ''}), Document(page_content='edu Tempe, AZ 85287-5706 Artificial Intelligence This concentration is offered by the School of Computing and Augmented Intelligence at the Tempe campus. It is appropriate for students who wish to emphasize applications in artificial intelligence/computer science. Students will get a solid theoretical and practical background in a variety of topics that facilitate the study of \"intelligent agents\" that is any robotic system that perceives its environment and takes actions that maximize its chance of successfully achieving its goals. Thus, students in this concentration will be exposed to the frontiers of the general topics in AI, including statistical machine learning, computer vision, natural language processing, knowledge retrieval and reasoning, and formal methods of planning. When compared to the other concentrations, the AI concentration focuses more on the algorithmic aspects of robotics', metadata={'page_number': 4, 'chunk': 2, 'source': 'p4-2', 'title': 'MS-RAS Handbook Spring 2023 and 23-24 AY.docx', 'author': '', 'creation_date': ''}), Document(page_content='Students in this concentration will be exposed to state-of-the-art and emerging theories and implementations related to sensing, data processing, adaptive control, automated mobility, autonomous systems, human-machine interaction, robotic applications in various domains including but not limited to public safety, manufacturing, healthcare, automotive, and assistive technologies. This concentration prepares engineers for doctoral study or industrial positions that specialize in research, project management, and product innovation related to robotics and autonomous systems. Modern robotics and autonomous systems laboratory facilities are available to support research investigations. Phone: (480) 965-3424 PO Box 875706 Email: eceegrad@asu.edu Tempe, AZ 85287-5706 Artificial Intelligence This concentration is offered by the School of Computing and Augmented Intelligence at the Tempe campus', metadata={'page_number': 4, 'chunk': 1, 'source': 'p4-1', 'title': 'MS-RAS Handbook Spring 2023 and 23-24 AY.docx', 'author': '', 'creation_date': ''})]\n",
      "Similarity Search Score:\n",
      "1.816348671913147\n",
      "\n",
      "None\n",
      "Answer:  I don't know.\n",
      "\n",
      "\n",
      "Similarity Search:\n",
      "[Document(page_content='Program Overview Robotics and autonomous systems are interdisciplinary technologies that impact manufacturing, transportation, aerospace, defense, healthcare, etc. The ASU Robotics Faculty Group includes faculty from several engineering disciplines, and a large number of graduate robotics-related engineering courses are already being offered at both the Tempe and Polytechnic campuses. Autonomous systems and robotics are related and extend the field of “traditional” robotics to emerging fields such as collective behavior, autonomous vehicles, advanced sensing technologies, etc. This interdisciplinary MS degree brings together students from various engineering backgrounds and allows them to take advantage of the broad variety of available courses and faculty. The Master of Science (MS) in Robotics and Autonomous Systems has five concentrations, and applicants are required to select one concentration at the time of application', metadata={'page_number': 3, 'chunk': 0, 'source': 'p3-0', 'title': 'MS-RAS Handbook Spring 2023 and 23-24 AY.docx', 'author': '', 'creation_date': ''}), Document(page_content='Program Overview Robotics and autonomous systems are interdisciplinary technologies that impact manufacturing, transportation, aerospace, defense, healthcare, etc. The ASU Robotics Faculty Group includes faculty from several engineering disciplines, and a large number of graduate robotics-related engineering courses are already being offered at both the Tempe and Polytechnic campuses. Autonomous systems and robotics are related and extend the field of “traditional” robotics to emerging fields such as collective behavior, autonomous vehicles, advanced sensing technologies, etc. This interdisciplinary MS degree brings together students from various engineering backgrounds and allows them to take advantage of the broad variety of available courses and faculty. The Master of Science (MS) in Robotics and Autonomous Systems has five concentrations, and applicants are required to select one concentration at the time of application', metadata={'page_number': 3, 'chunk': 0, 'source': 'p3-0', 'title': 'MS-RAS Handbook Spring 2023 and 23-24 AY.docx', 'author': '', 'creation_date': ''}), Document(page_content='Program Overview Robotics and autonomous systems are interdisciplinary technologies that impact manufacturing, transportation, aerospace, defense, healthcare, etc. The ASU Robotics Faculty Group includes faculty from several engineering disciplines, and a large number of graduate robotics-related engineering courses are already being offered at both the Tempe and Polytechnic campuses. Autonomous systems and robotics are related and extend the field of “traditional” robotics to emerging fields such as collective behavior, autonomous vehicles, advanced sensing technologies, etc. This interdisciplinary MS degree brings together students from various engineering backgrounds and allows them to take advantage of the broad variety of available courses and faculty. The Master of Science (MS) in Robotics and Autonomous Systems has five concentrations, and applicants are required to select one concentration at the time of application', metadata={'page_number': 3, 'chunk': 0, 'source': 'p3-0', 'title': 'MS-RAS Handbook Spring 2023 and 23-24 AY.docx', 'author': '', 'creation_date': ''}), Document(page_content='Most importantly, students in this concentration will be exposed to state-of-the-art and emerging theories and implementations related to human-robot interaction, robotics, and automation in healthcare, manufacturing, automotive controls, as well as a plethora of everyday life applications of robotics and autonomous systems. This concentration prepares engineers for doctoral study or industrial positions that specialize in research, project management, and product innovation related to robotics and autonomous systems. Modern robotics and autonomous systems laboratory facilities are available to support research investigations. Phone: (480) 965-2335 PO Box 876106 Email: SEMTEGrad@asu.edu Tempe, AZ 85287-6106 Systems Engineering This concentration is offered by The Polytechnic School at the Polytechnic campus, in Mesa, AZ. It is appropriate for students who wish to emphasize applications in systems engineering', metadata={'page_number': 3, 'chunk': 2, 'source': 'p3-2', 'title': 'MS-RAS Handbook Spring 2023 and 23-24 AY.docx', 'author': '', 'creation_date': ''})]\n",
      "Similarity Search Score:\n",
      "0.6311989426612854\n",
      "\n",
      "None\n",
      "Answer:  I don't know.\n",
      "\n",
      "\n"
     ]
    },
    {
     "ename": "KeyboardInterrupt",
     "evalue": "Interrupted by user",
     "output_type": "error",
     "traceback": [
      "\u001b[0;31m---------------------------------------------------------------------------\u001b[0m",
      "\u001b[0;31mKeyboardInterrupt\u001b[0m                         Traceback (most recent call last)",
      "\u001b[1;32m/Users/affanbinusman/Dropbox (ASU)/Mac (2)/Desktop/untitled folder 2/LangchainLLM/a2/working.ipynb Cell 17\u001b[0m in \u001b[0;36m6\n\u001b[1;32m      <a href='vscode-notebook-cell:/Users/affanbinusman/Dropbox%20%28ASU%29/Mac%20%282%29/Desktop/untitled%20folder%202/LangchainLLM/a2/working.ipynb#X22sZmlsZQ%3D%3D?line=2'>3</a>\u001b[0m vectordbkwargs \u001b[39m=\u001b[39m {\u001b[39m\"\u001b[39m\u001b[39msearch_distance\u001b[39m\u001b[39m\"\u001b[39m: \u001b[39m0.9\u001b[39m}\n\u001b[1;32m      <a href='vscode-notebook-cell:/Users/affanbinusman/Dropbox%20%28ASU%29/Mac%20%282%29/Desktop/untitled%20folder%202/LangchainLLM/a2/working.ipynb#X22sZmlsZQ%3D%3D?line=4'>5</a>\u001b[0m \u001b[39mwhile\u001b[39;00m \u001b[39mTrue\u001b[39;00m:\n\u001b[0;32m----> <a href='vscode-notebook-cell:/Users/affanbinusman/Dropbox%20%28ASU%29/Mac%20%282%29/Desktop/untitled%20folder%202/LangchainLLM/a2/working.ipynb#X22sZmlsZQ%3D%3D?line=5'>6</a>\u001b[0m     question \u001b[39m=\u001b[39m \u001b[39minput\u001b[39;49m(\u001b[39m\"\u001b[39;49m\u001b[39mQuestion: \u001b[39;49m\u001b[39m\"\u001b[39;49m)\n\u001b[1;32m      <a href='vscode-notebook-cell:/Users/affanbinusman/Dropbox%20%28ASU%29/Mac%20%282%29/Desktop/untitled%20folder%202/LangchainLLM/a2/working.ipynb#X22sZmlsZQ%3D%3D?line=7'>8</a>\u001b[0m     \u001b[39m# Running similarity search to check sources of identified parts in the document\u001b[39;00m\n\u001b[1;32m      <a href='vscode-notebook-cell:/Users/affanbinusman/Dropbox%20%28ASU%29/Mac%20%282%29/Desktop/untitled%20folder%202/LangchainLLM/a2/working.ipynb#X22sZmlsZQ%3D%3D?line=8'>9</a>\u001b[0m     simSearch \u001b[39m=\u001b[39m vector_store\u001b[39m.\u001b[39msimilarity_search(query\u001b[39m=\u001b[39mquestion)\n",
      "File \u001b[0;32m~/Library/Python/3.9/lib/python/site-packages/ipykernel/kernelbase.py:1177\u001b[0m, in \u001b[0;36mKernel.raw_input\u001b[0;34m(self, prompt)\u001b[0m\n\u001b[1;32m   1173\u001b[0m \u001b[39mif\u001b[39;00m \u001b[39mnot\u001b[39;00m \u001b[39mself\u001b[39m\u001b[39m.\u001b[39m_allow_stdin:\n\u001b[1;32m   1174\u001b[0m     \u001b[39mraise\u001b[39;00m StdinNotImplementedError(\n\u001b[1;32m   1175\u001b[0m         \u001b[39m\"\u001b[39m\u001b[39mraw_input was called, but this frontend does not support input requests.\u001b[39m\u001b[39m\"\u001b[39m\n\u001b[1;32m   1176\u001b[0m     )\n\u001b[0;32m-> 1177\u001b[0m \u001b[39mreturn\u001b[39;00m \u001b[39mself\u001b[39;49m\u001b[39m.\u001b[39;49m_input_request(\n\u001b[1;32m   1178\u001b[0m     \u001b[39mstr\u001b[39;49m(prompt),\n\u001b[1;32m   1179\u001b[0m     \u001b[39mself\u001b[39;49m\u001b[39m.\u001b[39;49m_parent_ident[\u001b[39m\"\u001b[39;49m\u001b[39mshell\u001b[39;49m\u001b[39m\"\u001b[39;49m],\n\u001b[1;32m   1180\u001b[0m     \u001b[39mself\u001b[39;49m\u001b[39m.\u001b[39;49mget_parent(\u001b[39m\"\u001b[39;49m\u001b[39mshell\u001b[39;49m\u001b[39m\"\u001b[39;49m),\n\u001b[1;32m   1181\u001b[0m     password\u001b[39m=\u001b[39;49m\u001b[39mFalse\u001b[39;49;00m,\n\u001b[1;32m   1182\u001b[0m )\n",
      "File \u001b[0;32m~/Library/Python/3.9/lib/python/site-packages/ipykernel/kernelbase.py:1219\u001b[0m, in \u001b[0;36mKernel._input_request\u001b[0;34m(self, prompt, ident, parent, password)\u001b[0m\n\u001b[1;32m   1216\u001b[0m             \u001b[39mbreak\u001b[39;00m\n\u001b[1;32m   1217\u001b[0m \u001b[39mexcept\u001b[39;00m \u001b[39mKeyboardInterrupt\u001b[39;00m:\n\u001b[1;32m   1218\u001b[0m     \u001b[39m# re-raise KeyboardInterrupt, to truncate traceback\u001b[39;00m\n\u001b[0;32m-> 1219\u001b[0m     \u001b[39mraise\u001b[39;00m \u001b[39mKeyboardInterrupt\u001b[39;00m(\u001b[39m\"\u001b[39m\u001b[39mInterrupted by user\u001b[39m\u001b[39m\"\u001b[39m) \u001b[39mfrom\u001b[39;00m \u001b[39mNone\u001b[39m\n\u001b[1;32m   1220\u001b[0m \u001b[39mexcept\u001b[39;00m \u001b[39mException\u001b[39;00m:\n\u001b[1;32m   1221\u001b[0m     \u001b[39mself\u001b[39m\u001b[39m.\u001b[39mlog\u001b[39m.\u001b[39mwarning(\u001b[39m\"\u001b[39m\u001b[39mInvalid Message:\u001b[39m\u001b[39m\"\u001b[39m, exc_info\u001b[39m=\u001b[39m\u001b[39mTrue\u001b[39;00m)\n",
      "\u001b[0;31mKeyboardInterrupt\u001b[0m: Interrupted by user"
     ]
    }
   ],
   "source": [
    "chain = make_chain()\n",
    "chat_history = []\n",
    "vectordbkwargs = {\"search_distance\": 0.9}\n",
    "\n",
    "while True:\n",
    "    question = input(\"Question: \")\n",
    "\n",
    "    # Running similarity search to check sources of identified parts in the document\n",
    "    simSearch = vector_store.similarity_search(query=question)\n",
    "    print(\"Similarity Search:\\n{}\".format(simSearch))\n",
    "    simSearchScore = vector_store.similarity_search_with_score(query=question)\n",
    "    print(print(\"Similarity Search Score:\\n{}\\n\".format(simSearchScore[-1][-1])))\n",
    "\n",
    "    # Generate answer\n",
    "    response = chain({\"question\": question, \"chat_history\": chat_history, \"vectordbkwargs\": vectordbkwargs})\n",
    "    time.sleep(2)\n",
    "    # Retrieve answer\n",
    "    answer = response[\"answer\"]\n",
    "    source = response[\"source_documents\"]\n",
    "    chat_history.append(HumanMessage(content=question))\n",
    "    chat_history.append(AIMessage(content=answer))\n",
    "\n",
    "    # Display answer\n",
    "    # print(\"\\n\\nSources:\\n\")\n",
    "    # for document in source:\n",
    "    #     print(f\"Page: {document.metadata['page_number']}\")\n",
    "    #     print(f\"Text chunk: {document.page_content[:160]}...\\n\")\n",
    "    print(f\"Answer: {answer}\\n\\n\")"
   ]
  },
  {
   "attachments": {},
   "cell_type": "markdown",
   "metadata": {},
   "source": [
    "Questions:\n",
    "List some classes from the Mechanical & Aerospace Engineering Concentration for the Robotics graduate program\n",
    "Is there a GRE waiver for application of Robotics program at Arizona State University\n",
    "What is the email address of School of Electrical, Computer, and Energy Engineering department at Arizona State University\n",
    "The Graduate Student Handbook for Robotics progam is intended for which academic year?\n",
    "Give an overview of the Robotics & Autonomous Systems program\n",
    "Can Artificial Intelligence Concentration students opt for portfolio option?\n",
    "What's the difference between Curricular Practical Training and Optional Practical Training\n",
    "What is the GPA requirement for the electrical engineering program?"
   ]
  },
  {
   "cell_type": "code",
   "execution_count": null,
   "metadata": {},
   "outputs": [],
   "source": []
  },
  {
   "cell_type": "code",
   "execution_count": null,
   "metadata": {},
   "outputs": [],
   "source": []
  },
  {
   "cell_type": "code",
   "execution_count": null,
   "metadata": {},
   "outputs": [],
   "source": []
  },
  {
   "cell_type": "code",
   "execution_count": null,
   "metadata": {},
   "outputs": [],
   "source": []
  },
  {
   "cell_type": "code",
   "execution_count": null,
   "metadata": {},
   "outputs": [],
   "source": []
  },
  {
   "cell_type": "code",
   "execution_count": null,
   "metadata": {},
   "outputs": [],
   "source": []
  },
  {
   "cell_type": "code",
   "execution_count": null,
   "metadata": {},
   "outputs": [],
   "source": []
  },
  {
   "attachments": {},
   "cell_type": "markdown",
   "metadata": {},
   "source": [
    "Results from previous session - Cohere Sessions"
   ]
  },
  {
   "cell_type": "code",
   "execution_count": null,
   "metadata": {},
   "outputs": [
    {
     "name": "stderr",
     "output_type": "stream",
     "text": [
      "WARNING:chromadb:Using embedded DuckDB with persistence: data will be stored in: a2/data/chroma\n"
     ]
    },
    {
     "name": "stdout",
     "output_type": "stream",
     "text": [
      "\n",
      "Similarity Search:\n",
      "[Document(page_content='AFFAN BIN USMAN Tempe, AZ (Open to Relocate) • (602) 756-3989 • ausman4@asu.edu • linkedin.com/in/affanbinusman • github.com/affanbinusman SUMMARY A self-motivated team player with effective communication skills, delivering value in data-driven collaborative software development for AI/ML applications with in-depth data analysis utilizing agile & CI/CD practices, Python, C/C++, PyTorch, optimization techniques & data processing. 2 years of customer-focused experience in technical engineering management driving sustainable goals. EDUCATION Master of Science - Artificial Intelligence & Robotics May 2023 Arizona State University, Tempe, AZ 4.00 GPA Artificial Intelligence (AI), Machine Learning, Neural Networks, Perception, Semiconductors & Micro-Electronics Bachelor of Engineering - Electrical Engineering June 2019 National University of Sciences and Technology, Islamabad, Pakistan 3', metadata={'page_number': 1, 'chunk': 0, 'source': 'p1-0', 'title': '', 'author': 'BarbaraZT', 'creation_date': \"D:20230329063525+00'00'\"}), Document(page_content='AFFAN BIN USMAN Tempe, AZ (Open to Relocate) • (602) 756-3989 • ausman4@asu.edu • linkedin.com/in/affanbinusman • github.com/affanbinusman SUMMARY A self-motivated team player with effective communication skills, delivering value in data-driven collaborative software development for AI/ML applications with in-depth data analysis utilizing agile & CI/CD practices, Python, C/C++, PyTorch, optimization techniques & data processing. 2 years of customer-focused experience in technical engineering management driving sustainable goals. EDUCATION Master of Science - Artificial Intelligence & Robotics May 2023 Arizona State University, Tempe, AZ 4.00 GPA Artificial Intelligence (AI), Machine Learning, Neural Networks, Perception, Semiconductors & Micro-Electronics Bachelor of Engineering - Electrical Engineering June 2019 National University of Sciences and Technology, Islamabad, Pakistan 3', metadata={'page_number': 1, 'chunk': 0, 'source': 'p1-0', 'title': '', 'author': 'BarbaraZT', 'creation_date': \"D:20230329063525+00'00'\"}), Document(page_content='increasing accuracy from 50% to 95% with custom A* algorithm PROFESSIONAL EXPERIENCE Instructor (Graduate Teaching Assistant) - Arizona State University, Tempe, AZ August 2022 - December 2022 • Tutored Intro to Engineering to 50 students by establishing an interactive environment; facilitated a 15% rise in passing rate • Supervised students in building an autonomous vehicle leveraging MATLAB and Lego EV3 along with 2 teaching assistants Assistant Plant Manager - Pakistan Oxygen Limited, Pakistan March 2020 - November 2021 • Streamlined production processes & automated quality systems through resource usage monitoring & effective communication • Reduced 6% operating costs, increased 11% production driving sustainable goals', metadata={'page_number': 1, 'chunk': 6, 'source': 'p1-6', 'title': '', 'author': 'BarbaraZT', 'creation_date': \"D:20230329063525+00'00'\"}), Document(page_content='increasing accuracy from 50% to 95% with custom A* algorithm PROFESSIONAL EXPERIENCE Instructor (Graduate Teaching Assistant) - Arizona State University, Tempe, AZ August 2022 - December 2022 • Tutored Intro to Engineering to 50 students by establishing an interactive environment; facilitated a 15% rise in passing rate • Supervised students in building an autonomous vehicle leveraging MATLAB and Lego EV3 along with 2 teaching assistants Assistant Plant Manager - Pakistan Oxygen Limited, Pakistan March 2020 - November 2021 • Streamlined production processes & automated quality systems through resource usage monitoring & effective communication • Reduced 6% operating costs, increased 11% production driving sustainable goals', metadata={'page_number': 1, 'chunk': 6, 'source': 'p1-6', 'title': '', 'author': 'BarbaraZT', 'creation_date': \"D:20230329063525+00'00'\"})]\n",
      "\n",
      "\n",
      "Similarity Search Score:\n",
      "1.6878031492233276\n",
      "\n",
      "\n",
      "None\n",
      "Answer:  affan went to Arizona State University for his masters.\n",
      "\n",
      "Similarity Search:\n",
      "[Document(page_content='11 GPA Digital Signal Processing, Electronic Devices, Embedded Systems, Object Oriented Programming, Data Structures & Algorithms TECHNICAL SKILLS Programming Languages: Python (Most Proficiency), C/C++, C#, SQL Frameworks / Libraries / OS: PyTorch, TensorFlow, Scikit Learn, Keras, Pandas, NumPy, Matplotlib, SciPy, OpenCV, Linux Design and Modeling Tools: Visual Studio Code, Git, Docker, ROS, Google Colab, Jupyter, MATLAB, Tableau ACADEMIC PROJECTS Exploration & Mapping with Multi-Robot System Fall 2022 • Programmed an RRT* & NMPC-based multi-robot exploration & mapping simulation application in a team of 2, using a potential gradient obstacle avoidance algorithm & combination of Levy-Brownian motion written in Python (Matplotlib, SciPy, NumPy) • Analyzed local and global coverage', metadata={'page_number': 1, 'chunk': 1, 'source': 'p1-1', 'title': '', 'author': 'BarbaraZT', 'creation_date': \"D:20230329063525+00'00'\"}), Document(page_content='11 GPA Digital Signal Processing, Electronic Devices, Embedded Systems, Object Oriented Programming, Data Structures & Algorithms TECHNICAL SKILLS Programming Languages: Python (Most Proficiency), C/C++, C#, SQL Frameworks / Libraries / OS: PyTorch, TensorFlow, Scikit Learn, Keras, Pandas, NumPy, Matplotlib, SciPy, OpenCV, Linux Design and Modeling Tools: Visual Studio Code, Git, Docker, ROS, Google Colab, Jupyter, MATLAB, Tableau ACADEMIC PROJECTS Exploration & Mapping with Multi-Robot System Fall 2022 • Programmed an RRT* & NMPC-based multi-robot exploration & mapping simulation application in a team of 2, using a potential gradient obstacle avoidance algorithm & combination of Levy-Brownian motion written in Python (Matplotlib, SciPy, NumPy) • Analyzed local and global coverage', metadata={'page_number': 1, 'chunk': 1, 'source': 'p1-1', 'title': '', 'author': 'BarbaraZT', 'creation_date': \"D:20230329063525+00'00'\"}), Document(page_content='AFFAN BIN USMAN Tempe, AZ (Open to Relocate) • (602) 756-3989 • ausman4@asu.edu • linkedin.com/in/affanbinusman • github.com/affanbinusman SUMMARY A self-motivated team player with effective communication skills, delivering value in data-driven collaborative software development for AI/ML applications with in-depth data analysis utilizing agile & CI/CD practices, Python, C/C++, PyTorch, optimization techniques & data processing. 2 years of customer-focused experience in technical engineering management driving sustainable goals. EDUCATION Master of Science - Artificial Intelligence & Robotics May 2023 Arizona State University, Tempe, AZ 4.00 GPA Artificial Intelligence (AI), Machine Learning, Neural Networks, Perception, Semiconductors & Micro-Electronics Bachelor of Engineering - Electrical Engineering June 2019 National University of Sciences and Technology, Islamabad, Pakistan 3', metadata={'page_number': 1, 'chunk': 0, 'source': 'p1-0', 'title': '', 'author': 'BarbaraZT', 'creation_date': \"D:20230329063525+00'00'\"}), Document(page_content='AFFAN BIN USMAN Tempe, AZ (Open to Relocate) • (602) 756-3989 • ausman4@asu.edu • linkedin.com/in/affanbinusman • github.com/affanbinusman SUMMARY A self-motivated team player with effective communication skills, delivering value in data-driven collaborative software development for AI/ML applications with in-depth data analysis utilizing agile & CI/CD practices, Python, C/C++, PyTorch, optimization techniques & data processing. 2 years of customer-focused experience in technical engineering management driving sustainable goals. EDUCATION Master of Science - Artificial Intelligence & Robotics May 2023 Arizona State University, Tempe, AZ 4.00 GPA Artificial Intelligence (AI), Machine Learning, Neural Networks, Perception, Semiconductors & Micro-Electronics Bachelor of Engineering - Electrical Engineering June 2019 National University of Sciences and Technology, Islamabad, Pakistan 3', metadata={'page_number': 1, 'chunk': 0, 'source': 'p1-0', 'title': '', 'author': 'BarbaraZT', 'creation_date': \"D:20230329063525+00'00'\"})]\n",
      "\n",
      "\n",
      "Similarity Search Score:\n",
      "1.6905325651168823\n",
      "\n",
      "\n",
      "None\n",
      "Answer:  Affan studied Artificial Intelligence and Robotics.\n",
      "\n"
     ]
    },
    {
     "ename": "KeyboardInterrupt",
     "evalue": "Interrupted by user",
     "output_type": "error",
     "traceback": [
      "\u001b[0;31m---------------------------------------------------------------------------\u001b[0m",
      "\u001b[0;31mKeyboardInterrupt\u001b[0m                         Traceback (most recent call last)",
      "\u001b[1;32m/Users/affanbinusman/Dropbox (ASU)/Mac (2)/Desktop/untitled folder 2/LangchainLLM/a2/test2.ipynb Cell 16\u001b[0m in \u001b[0;36m7\n\u001b[1;32m      <a href='vscode-notebook-cell:/Users/affanbinusman/Dropbox%20%28ASU%29/Mac%20%282%29/Desktop/untitled%20folder%202/LangchainLLM/a2/test2.ipynb#X53sZmlsZQ%3D%3D?line=4'>5</a>\u001b[0m \u001b[39mwhile\u001b[39;00m \u001b[39mTrue\u001b[39;00m:\n\u001b[1;32m      <a href='vscode-notebook-cell:/Users/affanbinusman/Dropbox%20%28ASU%29/Mac%20%282%29/Desktop/untitled%20folder%202/LangchainLLM/a2/test2.ipynb#X53sZmlsZQ%3D%3D?line=5'>6</a>\u001b[0m     \u001b[39mprint\u001b[39m()\n\u001b[0;32m----> <a href='vscode-notebook-cell:/Users/affanbinusman/Dropbox%20%28ASU%29/Mac%20%282%29/Desktop/untitled%20folder%202/LangchainLLM/a2/test2.ipynb#X53sZmlsZQ%3D%3D?line=6'>7</a>\u001b[0m     question \u001b[39m=\u001b[39m \u001b[39minput\u001b[39;49m(\u001b[39m\"\u001b[39;49m\u001b[39mQuestion: \u001b[39;49m\u001b[39m\"\u001b[39;49m)\n\u001b[1;32m      <a href='vscode-notebook-cell:/Users/affanbinusman/Dropbox%20%28ASU%29/Mac%20%282%29/Desktop/untitled%20folder%202/LangchainLLM/a2/test2.ipynb#X53sZmlsZQ%3D%3D?line=8'>9</a>\u001b[0m     simSearch \u001b[39m=\u001b[39m vector_store\u001b[39m.\u001b[39msimilarity_search(query\u001b[39m=\u001b[39mquestion)\n\u001b[1;32m     <a href='vscode-notebook-cell:/Users/affanbinusman/Dropbox%20%28ASU%29/Mac%20%282%29/Desktop/untitled%20folder%202/LangchainLLM/a2/test2.ipynb#X53sZmlsZQ%3D%3D?line=9'>10</a>\u001b[0m     \u001b[39mprint\u001b[39m(\u001b[39m\"\u001b[39m\u001b[39mSimilarity Search:\u001b[39m\u001b[39m\\n\u001b[39;00m\u001b[39m{}\u001b[39;00m\u001b[39m\\n\u001b[39;00m\u001b[39m\\n\u001b[39;00m\u001b[39m\"\u001b[39m\u001b[39m.\u001b[39mformat(simSearch))\n",
      "File \u001b[0;32m~/Library/Python/3.9/lib/python/site-packages/ipykernel/kernelbase.py:1177\u001b[0m, in \u001b[0;36mKernel.raw_input\u001b[0;34m(self, prompt)\u001b[0m\n\u001b[1;32m   1173\u001b[0m \u001b[39mif\u001b[39;00m \u001b[39mnot\u001b[39;00m \u001b[39mself\u001b[39m\u001b[39m.\u001b[39m_allow_stdin:\n\u001b[1;32m   1174\u001b[0m     \u001b[39mraise\u001b[39;00m StdinNotImplementedError(\n\u001b[1;32m   1175\u001b[0m         \u001b[39m\"\u001b[39m\u001b[39mraw_input was called, but this frontend does not support input requests.\u001b[39m\u001b[39m\"\u001b[39m\n\u001b[1;32m   1176\u001b[0m     )\n\u001b[0;32m-> 1177\u001b[0m \u001b[39mreturn\u001b[39;00m \u001b[39mself\u001b[39;49m\u001b[39m.\u001b[39;49m_input_request(\n\u001b[1;32m   1178\u001b[0m     \u001b[39mstr\u001b[39;49m(prompt),\n\u001b[1;32m   1179\u001b[0m     \u001b[39mself\u001b[39;49m\u001b[39m.\u001b[39;49m_parent_ident[\u001b[39m\"\u001b[39;49m\u001b[39mshell\u001b[39;49m\u001b[39m\"\u001b[39;49m],\n\u001b[1;32m   1180\u001b[0m     \u001b[39mself\u001b[39;49m\u001b[39m.\u001b[39;49mget_parent(\u001b[39m\"\u001b[39;49m\u001b[39mshell\u001b[39;49m\u001b[39m\"\u001b[39;49m),\n\u001b[1;32m   1181\u001b[0m     password\u001b[39m=\u001b[39;49m\u001b[39mFalse\u001b[39;49;00m,\n\u001b[1;32m   1182\u001b[0m )\n",
      "File \u001b[0;32m~/Library/Python/3.9/lib/python/site-packages/ipykernel/kernelbase.py:1219\u001b[0m, in \u001b[0;36mKernel._input_request\u001b[0;34m(self, prompt, ident, parent, password)\u001b[0m\n\u001b[1;32m   1216\u001b[0m             \u001b[39mbreak\u001b[39;00m\n\u001b[1;32m   1217\u001b[0m \u001b[39mexcept\u001b[39;00m \u001b[39mKeyboardInterrupt\u001b[39;00m:\n\u001b[1;32m   1218\u001b[0m     \u001b[39m# re-raise KeyboardInterrupt, to truncate traceback\u001b[39;00m\n\u001b[0;32m-> 1219\u001b[0m     \u001b[39mraise\u001b[39;00m \u001b[39mKeyboardInterrupt\u001b[39;00m(\u001b[39m\"\u001b[39m\u001b[39mInterrupted by user\u001b[39m\u001b[39m\"\u001b[39m) \u001b[39mfrom\u001b[39;00m \u001b[39mNone\u001b[39m\n\u001b[1;32m   1220\u001b[0m \u001b[39mexcept\u001b[39;00m \u001b[39mException\u001b[39;00m:\n\u001b[1;32m   1221\u001b[0m     \u001b[39mself\u001b[39m\u001b[39m.\u001b[39mlog\u001b[39m.\u001b[39mwarning(\u001b[39m\"\u001b[39m\u001b[39mInvalid Message:\u001b[39m\u001b[39m\"\u001b[39m, exc_info\u001b[39m=\u001b[39m\u001b[39mTrue\u001b[39;00m)\n",
      "\u001b[0;31mKeyboardInterrupt\u001b[0m: Interrupted by user"
     ]
    }
   ],
   "source": [
    "chain = make_chain()\n",
    "chat_history = []\n",
    "vectordbkwargs = {\"search_distance\": 0.9}\n",
    "\n",
    "while True:\n",
    "    question = input(\"Question: \")\n",
    "\n",
    "    simSearch = vector_store.similarity_search(query=question)\n",
    "    print(\"Similarity Search:\\n{}\".format(simSearch))\n",
    "    simSearchScore = vector_store.similarity_search_with_score(query=question)\n",
    "    print(print(\"Similarity Search Score:\\n{}\\n\".format(simSearchScore[-1][-1])))\n",
    "\n",
    "    # Generate answer\n",
    "    response = chain({\"question\": question, \"chat_history\": chat_history, \"vectordbkwargs\": vectordbkwargs})\n",
    "\n",
    "    # Retrieve answer\n",
    "    answer = response[\"answer\"]\n",
    "    source = response[\"source_documents\"]\n",
    "    chat_history.append(HumanMessage(content=question))\n",
    "    chat_history.append(AIMessage(content=answer))\n",
    "\n",
    "    # Display answer\n",
    "    # print(\"\\n\\nSources:\\n\")\n",
    "    # for document in source:\n",
    "    #     print(f\"Page: {document.metadata['page_number']}\")\n",
    "    #     print(f\"Text chunk: {document.page_content[:160]}...\\n\")\n",
    "    print(f\"Answer: {answer}\\n\\n\")"
   ]
  },
  {
   "cell_type": "code",
   "execution_count": null,
   "metadata": {},
   "outputs": [],
   "source": [
    "# Hard-coded examples\n",
    "examples = [\n",
    "    {\n",
    "        \"query\": \"Is there a GRE waiver for application of Robotics program at Arizona State University\",\n",
    "        \"answer\": \"Yes\"\n",
    "    },\n",
    "    {\n",
    "        \"query\": \"What is the email address of School of Electrical, Computer, and Energy Engineering department at Arizona State University\",\n",
    "        \"answer\": \"eceegrad@asu.edu\"\n",
    "    },\n",
    "    {\n",
    "        \"query\": \"Can Artificial Intelligence Concentration students opt for portfolio option?\",\n",
    "        \"answer\": \"Yes\"\n",
    "    } ,\n",
    "    {\n",
    "        \"query\": \"The Graduate Student Handbook for Robotics progam is intended for which academic year?\",\n",
    "        \"answer\": \"2023-2024 Academic year\"\n",
    "    },\n",
    "    {\n",
    "        \"query\": \"List some classes from the Mechanical & Aerospace Engineering Concentration for the Robotics graduate program\",\n",
    "        \"answer\": \"MAE 502 Partial Differential Equations, MAE 503 Finite Elements in Engineering, MAE 507 Fundamentals of Control and Optimization, MAE 508 Digital Control: Design and Implementation, MAE 509 LMI Methods in Optimal and Robust Control, MAE 510 Dynamics and Vibrations, MAE 514 Vibration Analysis, MAE 520 Stress Analysis, MAE 521 Structural Optimization, MAE 542 Design Geometry and Kinematics, MAE 548 Prob Methods for Eng Des/Analy, MAE 566 Rotary-Wing Aerodynamics, MAE 598 Bio-Inspired Robots, MAE 598 Multi-Robot Systems, MAE 598 Quantum Mech Eng: SW and HW of Quantum Computers, EGR 546 Robotic Systems- II, IEE 576 Network Optimization and Algorithms\"\n",
    "    }\n",
    "]"
   ]
  }
 ],
 "metadata": {
  "kernelspec": {
   "display_name": "Python 3",
   "language": "python",
   "name": "python3"
  },
  "language_info": {
   "codemirror_mode": {
    "name": "ipython",
    "version": 3
   },
   "file_extension": ".py",
   "mimetype": "text/x-python",
   "name": "python",
   "nbconvert_exporter": "python",
   "pygments_lexer": "ipython3",
   "version": "3.9.6"
  },
  "orig_nbformat": 4
 },
 "nbformat": 4,
 "nbformat_minor": 2
}
